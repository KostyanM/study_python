{
 "cells": [
  {
   "cell_type": "code",
   "execution_count": 24,
   "id": "3945e373",
   "metadata": {},
   "outputs": [
    {
     "name": "stdout",
     "output_type": "stream",
     "text": [
      "100\n",
      "354224848179263111168\n"
     ]
    }
   ],
   "source": [
    "def fib(n):\n",
    "    # put your code here\n",
    "    a=5**0.5\n",
    "    return int((1/a)*(((1+a)/2)**n - ((1-a)/2)**n))\n",
    "    \n",
    "                \n",
    "def main():\n",
    "    n = int(input())\n",
    "    print(fib(n))\n",
    "\n",
    "\n",
    "if __name__ == \"__main__\":\n",
    "    main()"
   ]
  },
  {
   "cell_type": "code",
   "execution_count": 33,
   "id": "f0ef54e3",
   "metadata": {},
   "outputs": [
    {
     "name": "stdout",
     "output_type": "stream",
     "text": [
      "841645\n",
      "5\n"
     ]
    }
   ],
   "source": [
    "def fib_digit(n):\n",
    "    \n",
    "    f0, f1 = 0, 1\n",
    "    for i in range(1, n):\n",
    "        f0, f1 = f1, (f0 + f1)%10\n",
    "    return f1%10\n",
    "\n",
    "\n",
    "def main():\n",
    "    n = int(input())\n",
    "    print(fib_digit(n))\n",
    "\n",
    "\n",
    "if __name__ == \"__main__\":\n",
    "    main()"
   ]
  },
  {
   "cell_type": "code",
   "execution_count": null,
   "id": "71fd4ba0",
   "metadata": {},
   "outputs": [],
   "source": []
  }
 ],
 "metadata": {
  "kernelspec": {
   "display_name": "Python 3 (ipykernel)",
   "language": "python",
   "name": "python3"
  },
  "language_info": {
   "codemirror_mode": {
    "name": "ipython",
    "version": 3
   },
   "file_extension": ".py",
   "mimetype": "text/x-python",
   "name": "python",
   "nbconvert_exporter": "python",
   "pygments_lexer": "ipython3",
   "version": "3.10.2"
  }
 },
 "nbformat": 4,
 "nbformat_minor": 5
}
