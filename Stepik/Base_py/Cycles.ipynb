{
 "cells": [
  {
   "cell_type": "code",
   "execution_count": 2,
   "metadata": {},
   "outputs": [
    {
     "name": "stdout",
     "output_type": "stream",
     "text": [
      "1\n",
      "2\n",
      "3\n",
      "4\n",
      "5\n",
      "6\n",
      "7\n",
      "10\n",
      "13\n"
     ]
    }
   ],
   "source": [
    "i = 0\n",
    "while i <= 10:\n",
    "    i = i + 1\n",
    "    if i > 7:\n",
    "        i = i + 2\n",
    "    print (i)"
   ]
  },
  {
   "cell_type": "code",
   "execution_count": 10,
   "metadata": {},
   "outputs": [
    {
     "name": "stdout",
     "output_type": "stream",
     "text": [
      "*\n",
      "**\n",
      "*\n",
      "*\n",
      "**\n",
      "*\n",
      "***\n",
      "*\n",
      "**\n",
      "***\n"
     ]
    }
   ],
   "source": [
    "i = 0\n",
    "while i < 5:\n",
    "    print('*')\n",
    "    if i % 2 == 0:\n",
    "        print('**')\n",
    "    if i > 2:\n",
    "        print('***')\n",
    "    i = i + 1"
   ]
  },
  {
   "cell_type": "code",
   "execution_count": 7,
   "metadata": {},
   "outputs": [
    {
     "name": "stdout",
     "output_type": "stream",
     "text": [
      "1\n"
     ]
    }
   ],
   "source": [
    "print(3 % 2)"
   ]
  },
  {
   "cell_type": "code",
   "execution_count": 61,
   "metadata": {},
   "outputs": [
    {
     "name": "stdout",
     "output_type": "stream",
     "text": [
      "10\n",
      "1\n",
      "0\n",
      "11\n"
     ]
    }
   ],
   "source": [
    "a = int(input())\n",
    "s = a\n",
    "i = a\n",
    "while i != 0:\n",
    "    i = int(input())\n",
    "    s += i\n",
    "print(s)"
   ]
  },
  {
   "cell_type": "code",
   "execution_count": 145,
   "metadata": {},
   "outputs": [
    {
     "name": "stdout",
     "output_type": "stream",
     "text": [
      "7\n",
      "5\n",
      "35\n"
     ]
    }
   ],
   "source": [
    "a = abs(int(input()))\n",
    "b = abs(int(input()))\n",
    "mx = a\n",
    "mn = b\n",
    "if b > mx:\n",
    "    mx = b\n",
    "    mn = a\n",
    "if mn == 0:\n",
    "    print('Error Zero')\n",
    "    print (mx)\n",
    "else:\n",
    "    while mx % a != 0 or mx % b != 0:\n",
    "        mx += 1\n",
    "#while NOK % b:\n",
    "#    NOK += a\n",
    "    print(mx)"
   ]
  },
  {
   "cell_type": "code",
   "execution_count": 142,
   "metadata": {},
   "outputs": [
    {
     "name": "stdout",
     "output_type": "stream",
     "text": [
      "0\n"
     ]
    }
   ],
   "source": [
    "print(3%3)"
   ]
  },
  {
   "cell_type": "code",
   "execution_count": 129,
   "metadata": {},
   "outputs": [
    {
     "name": "stdout",
     "output_type": "stream",
     "text": [
      "2\n",
      "0\n"
     ]
    },
    {
     "ename": "ZeroDivisionError",
     "evalue": "integer division or modulo by zero",
     "output_type": "error",
     "traceback": [
      "\u001b[0;31m---------------------------------------------------------------------------\u001b[0m",
      "\u001b[0;31mZeroDivisionError\u001b[0m                         Traceback (most recent call last)",
      "\u001b[0;32m<ipython-input-129-633ddd11608e>\u001b[0m in \u001b[0;36m<module>\u001b[0;34m\u001b[0m\n\u001b[1;32m      2\u001b[0m \u001b[0mb\u001b[0m \u001b[0;34m=\u001b[0m \u001b[0mint\u001b[0m\u001b[0;34m(\u001b[0m\u001b[0minput\u001b[0m\u001b[0;34m(\u001b[0m\u001b[0;34m)\u001b[0m\u001b[0;34m)\u001b[0m\u001b[0;34m\u001b[0m\u001b[0;34m\u001b[0m\u001b[0m\n\u001b[1;32m      3\u001b[0m \u001b[0md\u001b[0m \u001b[0;34m=\u001b[0m \u001b[0ma\u001b[0m\u001b[0;34m\u001b[0m\u001b[0;34m\u001b[0m\u001b[0m\n\u001b[0;32m----> 4\u001b[0;31m \u001b[0;32mwhile\u001b[0m \u001b[0md\u001b[0m\u001b[0;34m%\u001b[0m\u001b[0mb\u001b[0m\u001b[0;34m:\u001b[0m\u001b[0;34m\u001b[0m\u001b[0;34m\u001b[0m\u001b[0m\n\u001b[0m\u001b[1;32m      5\u001b[0m     \u001b[0md\u001b[0m \u001b[0;34m+=\u001b[0m \u001b[0ma\u001b[0m\u001b[0;34m\u001b[0m\u001b[0;34m\u001b[0m\u001b[0m\n\u001b[1;32m      6\u001b[0m \u001b[0mprint\u001b[0m\u001b[0;34m(\u001b[0m\u001b[0md\u001b[0m\u001b[0;34m)\u001b[0m\u001b[0;34m\u001b[0m\u001b[0;34m\u001b[0m\u001b[0m\n",
      "\u001b[0;31mZeroDivisionError\u001b[0m: integer division or modulo by zero"
     ]
    }
   ],
   "source": [
    "a = int(input())\n",
    "b = int(input())\n",
    "d = a\n",
    "while d%b:\n",
    "    d += a\n",
    "print(d)"
   ]
  },
  {
   "cell_type": "code",
   "execution_count": 236,
   "metadata": {},
   "outputs": [
    {
     "name": "stdout",
     "output_type": "stream",
     "text": [
      "30\n",
      "30\n",
      "40\n",
      "40\n",
      "50\n",
      "50\n",
      "102\n"
     ]
    }
   ],
   "source": [
    "a = 0\n",
    "while a >= 0:\n",
    "    if a > 100:\n",
    "        break        \n",
    "    if 10 <= a <= 100:\n",
    "        b = a\n",
    "        print (b)\n",
    "    a = int(input())       "
   ]
  },
  {
   "cell_type": "code",
   "execution_count": 1,
   "metadata": {},
   "outputs": [
    {
     "name": "stdout",
     "output_type": "stream",
     "text": [
      "-11\n"
     ]
    }
   ],
   "source": [
    "a = ~10\n",
    "print(a)"
   ]
  },
  {
   "cell_type": "code",
   "execution_count": 510,
   "metadata": {},
   "outputs": [
    {
     "name": "stdout",
     "output_type": "stream",
     "text": [
      "7\n",
      "10\n",
      "5\n",
      "6\n",
      "\t5 \t6 \n",
      "7\t35\t42\t\n",
      "8\t40\t48\t\n",
      "9\t45\t54\t\n",
      "10\t50\t60\t\n"
     ]
    }
   ],
   "source": [
    "a, b, c, d = (int(input()) for _ in range(4))\n",
    "for i in range (c,d + 1):\n",
    "    print ('\\t' + str (i), end = ' ')\n",
    "print()\n",
    "for i in range (a,b + 1):\n",
    "    print(i, end = '\\t')\n",
    "    for j in range (c,d + 1):\n",
    "        print (i*j, end = '\\t')\n",
    "    print ()"
   ]
  },
  {
   "cell_type": "code",
   "execution_count": 481,
   "metadata": {},
   "outputs": [
    {
     "name": "stdout",
     "output_type": "stream",
     "text": [
      "    1*1=1       1*2=2       1*3=3       1*4=4       1*5=5       1*6=6       1*7=7       1*8=8       1*9=9     1*10=10   \n",
      "    2*1=2       2*2=4       2*3=6       2*4=8      2*5=10      2*6=12      2*7=14      2*8=16      2*9=18     2*10=20   \n",
      "    3*1=3       3*2=6       3*3=9      3*4=12      3*5=15      3*6=18      3*7=21      3*8=24      3*9=27     3*10=30   \n",
      "    4*1=4       4*2=8      4*3=12      4*4=16      4*5=20      4*6=24      4*7=28      4*8=32      4*9=36     4*10=40   \n",
      "    5*1=5      5*2=10      5*3=15      5*4=20      5*5=25      5*6=30      5*7=35      5*8=40      5*9=45     5*10=50   \n",
      "    6*1=6      6*2=12      6*3=18      6*4=24      6*5=30      6*6=36      6*7=42      6*8=48      6*9=54     6*10=60   \n",
      "    7*1=7      7*2=14      7*3=21      7*4=28      7*5=35      7*6=42      7*7=49      7*8=56      7*9=63     7*10=70   \n",
      "    8*1=8      8*2=16      8*3=24      8*4=32      8*5=40      8*6=48      8*7=56      8*8=64      8*9=72     8*10=80   \n",
      "    9*1=9      9*2=18      9*3=27      9*4=36      9*5=45      9*6=54      9*7=63      9*8=72      9*9=81     9*10=90   \n",
      "  10*1=10     10*2=20     10*3=30     10*4=40     10*5=50     10*6=60     10*7=70     10*8=80     10*9=90   10*10=100   \n"
     ]
    }
   ],
   "source": [
    "for i in range(1,11):\n",
    "    for j in range(1,11):\n",
    "        print((str(i)+'*'+str(j)+'='+str(i*j)).rjust(9),end=' '*3)\n",
    "    print()\n"
   ]
  },
  {
   "cell_type": "code",
   "execution_count": 357,
   "metadata": {},
   "outputs": [
    {
     "name": "stdout",
     "output_type": "stream",
     "text": [
      "  1   2   3   4   5   6   7   8   9 \n",
      "  2   4   6   8  10  12  14  16  18 \n",
      "  3   6   9  12  15  18  21  24  27 \n",
      "  4   8  12  16  20  24  28  32  36 \n",
      "  5  10  15  20  25  30  35  40  45 \n",
      "  6  12  18  24  30  36  42  48  54 \n",
      "  7  14  21  28  35  42  49  56  63 \n",
      "  8  16  24  32  40  48  56  64  72 \n",
      "  9  18  27  36  45  54  63  72  81 \n"
     ]
    }
   ],
   "source": [
    "for i in range(1, 10):\n",
    "    for j in range(1, 10):\n",
    "        print(f' {i * j:2}', end=' ')\n",
    "    print()"
   ]
  },
  {
   "cell_type": "code",
   "execution_count": 525,
   "metadata": {},
   "outputs": [
    {
     "name": "stdout",
     "output_type": "stream",
     "text": [
      "233168\n"
     ]
    }
   ],
   "source": [
    "a = 1000\n",
    "s = 0\n",
    "for i in range (1, a):\n",
    "#    print(i)\n",
    "    if i % 3 == 0 or i % 5 == 0:\n",
    "        s += i\n",
    "print(s)\n"
   ]
  },
  {
   "cell_type": "code",
   "execution_count": 530,
   "metadata": {},
   "outputs": [
    {
     "name": "stdout",
     "output_type": "stream",
     "text": [
      "-5 12\n",
      "4.5\n"
     ]
    }
   ],
   "source": [
    "a, b = (int(i) for i in input().split())\n",
    "s = 0\n",
    "k = 0\n",
    "for i in range (a, b + 1):\n",
    "    if i % 3 == 0:\n",
    "        s += i\n",
    "        k += 1\n",
    "print (s/k)"
   ]
  },
  {
   "cell_type": "code",
   "execution_count": null,
   "metadata": {},
   "outputs": [],
   "source": []
  }
 ],
 "metadata": {
  "kernelspec": {
   "display_name": "Python 3 (ipykernel)",
   "language": "python",
   "name": "python3"
  },
  "language_info": {
   "codemirror_mode": {
    "name": "ipython",
    "version": 3
   },
   "file_extension": ".py",
   "mimetype": "text/x-python",
   "name": "python",
   "nbconvert_exporter": "python",
   "pygments_lexer": "ipython3",
   "version": "3.10.2"
  }
 },
 "nbformat": 4,
 "nbformat_minor": 4
}
