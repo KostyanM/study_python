{
 "cells": [
  {
   "cell_type": "code",
   "execution_count": 6,
   "id": "9a0c77fb",
   "metadata": {},
   "outputs": [
    {
     "data": {
      "text/plain": [
       "7.25"
      ]
     },
     "execution_count": 6,
     "metadata": {},
     "output_type": "execute_result"
    }
   ],
   "source": [
    "def f(x):\n",
    "    if x <= -2:\n",
    "        return (1-(x+2)**2)\n",
    "    elif x > -2 and x <= 2:\n",
    "        return (-(x/2))\n",
    "    else:\n",
    "        return (x-2)**2 + 1\n",
    "f(4.5)"
   ]
  },
  {
   "cell_type": "code",
   "execution_count": 89,
   "id": "334f1fea",
   "metadata": {},
   "outputs": [
    {
     "name": "stdout",
     "output_type": "stream",
     "text": [
      "None\n",
      "[1, 2, 3]\n"
     ]
    }
   ],
   "source": [
    "def modify_list(l):\n",
    "    x = len(l)\n",
    "    i = 0\n",
    "    while i < x:\n",
    "        if l[i] % 2 != 0:\n",
    "            l.remove(l[i])\n",
    "            x-=1\n",
    "        else:\n",
    "            l[i]=l[i]//2\n",
    "            i+=1\n",
    "    return\n",
    "lst = [1, 2, 3, 4, 5, 6]\n",
    "print(modify_list(lst))\n",
    "print(lst)"
   ]
  },
  {
   "cell_type": "code",
   "execution_count": 92,
   "id": "f8d1ce6a",
   "metadata": {},
   "outputs": [
    {
     "name": "stdout",
     "output_type": "stream",
     "text": [
      "None\n",
      "[1, 2, 3]\n"
     ]
    }
   ],
   "source": [
    "def modify_list(l):\n",
    "    for x in l[:]:\n",
    "        if x % 2 == 0:\n",
    "            l.append(x//2)\n",
    "        l.remove(x)\n",
    "lst = [1, 2, 3, 4, 5, 6]\n",
    "print(modify_list(lst))\n",
    "print(lst)"
   ]
  },
  {
   "cell_type": "code",
   "execution_count": 93,
   "id": "6b267703",
   "metadata": {},
   "outputs": [
    {
     "name": "stdout",
     "output_type": "stream",
     "text": [
      "None\n",
      "[1, 2, 3]\n"
     ]
    }
   ],
   "source": [
    "def modify_list(l):\n",
    "    l[:] = [i//2 for i in l if i % 2 == 0]\n",
    "lst = [1, 2, 3, 4, 5, 6]\n",
    "print(modify_list(lst))\n",
    "print(lst)"
   ]
  },
  {
   "cell_type": "code",
   "execution_count": null,
   "id": "767a3c89",
   "metadata": {},
   "outputs": [],
   "source": []
  }
 ],
 "metadata": {
  "kernelspec": {
   "display_name": "Python 3 (ipykernel)",
   "language": "python",
   "name": "python3"
  },
  "language_info": {
   "codemirror_mode": {
    "name": "ipython",
    "version": 3
   },
   "file_extension": ".py",
   "mimetype": "text/x-python",
   "name": "python",
   "nbconvert_exporter": "python",
   "pygments_lexer": "ipython3",
   "version": "3.10.2"
  }
 },
 "nbformat": 4,
 "nbformat_minor": 5
}
