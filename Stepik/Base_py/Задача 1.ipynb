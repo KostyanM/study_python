{
 "cells": [
  {
   "cell_type": "code",
   "execution_count": 1,
   "id": "8abd0347",
   "metadata": {},
   "outputs": [
    {
     "name": "stdout",
     "output_type": "stream",
     "text": [
      "3\n",
      "4\n",
      "5\n",
      "6.0\n"
     ]
    }
   ],
   "source": [
    "a = int(input())\n",
    "b = int(input())\n",
    "c = int(input())\n",
    "p = (a + b + c)//2\n",
    "S = ((p * (p-a) * (p-b) * (p-c)))**0.5\n",
    "print (S)"
   ]
  },
  {
   "cell_type": "code",
   "execution_count": 7,
   "id": "9ed49331",
   "metadata": {},
   "outputs": [
    {
     "name": "stdout",
     "output_type": "stream",
     "text": [
      "-20\n",
      "False\n"
     ]
    }
   ],
   "source": [
    "x = int(input())\n",
    "if -15 < x <= 12 or 14 < x < 17 or x >= 19:\n",
    "    print (\"True\")\n",
    "else:\n",
    "    print (\"False\")"
   ]
  },
  {
   "cell_type": "code",
   "execution_count": 26,
   "id": "ff4e314c",
   "metadata": {},
   "outputs": [
    {
     "name": "stdout",
     "output_type": "stream",
     "text": [
      "3\n",
      "0\n",
      "Выбрать операцию: +, -, /, *, mod, pow, divpow\n",
      "1.0\n"
     ]
    }
   ],
   "source": [
    "a = float(input())\n",
    "b = float(input())\n",
    "o = input() # Выбор операции +, -, /, *, mod, pow, div\n",
    "if o == '+':\n",
    "    print (a + b)\n",
    "elif o == '-':\n",
    "    print (a - b)\n",
    "elif o == '*':\n",
    "    print (a * b)\n",
    "elif o == 'pow':\n",
    "    print (a ** b)\n",
    "elif (o == '/' or o == 'div' or o == 'mod') and b == 0:\n",
    "    print ('Деление на 0!')\n",
    "elif o == 'div': \n",
    "    print (a // b)\n",
    "elif o == 'mod':\n",
    "    print (a % b)\n",
    "elif o == '/':\n",
    "    print (a / b)\n"
   ]
  },
  {
   "cell_type": "code",
   "execution_count": 1,
   "id": "f376431a",
   "metadata": {
    "collapsed": true
   },
   "outputs": [
    {
     "name": "stdout",
     "output_type": "stream",
     "text": [
      "2\n",
      "3\n",
      "28.26\n"
     ]
    }
   ],
   "source": [
    "f = input() # Указать фигуру\n",
    "if f == 'треугольник':\n",
    "    a = float(input())\n",
    "    b = float(input())\n",
    "    c = float(input())\n",
    "    p = (a + b + c) * 0.5\n",
    "    S = ((p * (p-a) * (p-b) * (p-c)))**0.5\n",
    "    print (S)\n",
    "elif f == 'прямоугольник':\n",
    "    a = float(input())\n",
    "    b = float(input())\n",
    "    S = (a * b)\n",
    "else:\n",
    "    r = float(input())\n",
    "    S = 3.14 * r ** 2\n",
    "    print (S)"
   ]
  },
  {
   "cell_type": "raw",
   "id": "7917ee07",
   "metadata": {},
   "source": []
  },
  {
   "cell_type": "code",
   "execution_count": 85,
   "id": "4e7e7419",
   "metadata": {
    "scrolled": true
   },
   "outputs": [
    {
     "name": "stdout",
     "output_type": "stream",
     "text": [
      "22\n",
      "14\n",
      "1\n",
      "22\n",
      "1\n",
      "14\n"
     ]
    }
   ],
   "source": [
    "a = int(input())\n",
    "b = int(input())\n",
    "c = int(input())\n",
    "mx = a\n",
    "mn = a\n",
    "if b > mx:\n",
    "    mx = b\n",
    "if c > mx:\n",
    "    mx = c\n",
    "if b < mn:\n",
    "    mn = b\n",
    "if c < mn:\n",
    "    mn = c\n",
    "print (mx)\n",
    "print (mn)\n",
    "print (a + b + c - mx - mn)\n",
    "    "
   ]
  },
  {
   "cell_type": "code",
   "execution_count": 288,
   "id": "0061cce4",
   "metadata": {},
   "outputs": [
    {
     "name": "stdout",
     "output_type": "stream",
     "text": [
      "100\n",
      "100 программистов\n"
     ]
    }
   ],
   "source": [
    "n = int(input())\n",
    "a = \"программист\"\n",
    "b = \"программиста\"\n",
    "c = \"программистов\"\n",
    "d = n % 100\n",
    "e = n % 10\n",
    "if 11 <= d <=14:\n",
    "    print (n, c)\n",
    "elif 2 <= e <= 4:\n",
    "    print (n, b)\n",
    "elif e == 1:\n",
    "    print (n, a)\n",
    "else:\n",
    "    print (n, c)\n",
    "    "
   ]
  },
  {
   "cell_type": "code",
   "execution_count": 299,
   "id": "495e3807",
   "metadata": {},
   "outputs": [
    {
     "name": "stdout",
     "output_type": "stream",
     "text": [
      "090234\n",
      "Счастливый\n"
     ]
    }
   ],
   "source": [
    "a, b, c, d, e, f = (input())\n",
    "s1 = int(a) + int(b) + int(c)\n",
    "s2 = int(d) + int(e) + int(f)\n",
    "if s1 == s2:\n",
    "    print ('Счастливый')\n",
    "else:\n",
    "    print ('Обычный')"
   ]
  },
  {
   "cell_type": "markdown",
   "id": "e1bfec0f",
   "metadata": {},
   "source": [
    "# "
   ]
  }
 ],
 "metadata": {
  "kernelspec": {
   "display_name": "Python 3",
   "language": "python",
   "name": "python3"
  },
  "language_info": {
   "codemirror_mode": {
    "name": "ipython",
    "version": 3
   },
   "file_extension": ".py",
   "mimetype": "text/x-python",
   "name": "python",
   "nbconvert_exporter": "python",
   "pygments_lexer": "ipython3",
   "version": "3.8.10"
  }
 },
 "nbformat": 4,
 "nbformat_minor": 5
}
