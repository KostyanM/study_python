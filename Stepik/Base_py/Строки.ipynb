{
 "cells": [
  {
   "cell_type": "code",
   "execution_count": 7,
   "id": "53dcd773",
   "metadata": {},
   "outputs": [
    {
     "name": "stdout",
     "output_type": "stream",
     "text": [
      "acggtgttat\n",
      "0.4\n"
     ]
    }
   ],
   "source": [
    "genome = input()\n",
    "s = genome.upper()\n",
    "C = s.count('C')\n",
    "G = s.count('G')\n",
    "print((C + G)/len(s))"
   ]
  },
  {
   "cell_type": "code",
   "execution_count": 4,
   "id": "e809dbb8",
   "metadata": {},
   "outputs": [
    {
     "name": "stdout",
     "output_type": "stream",
     "text": [
      "ACGGTGTTAT\n"
     ]
    }
   ],
   "source": [
    "genome = 'acggtgttat'\n",
    "s = genome.upper()\n",
    "print(s)"
   ]
  },
  {
   "cell_type": "code",
   "execution_count": 17,
   "id": "081d713d",
   "metadata": {},
   "outputs": [
    {
     "name": "stdout",
     "output_type": "stream",
     "text": [
      "kigec\n"
     ]
    }
   ],
   "source": [
    "s = 'abcdefghijk'\n",
    "x = s [-1:-10:-2]\n",
    "print(x)"
   ]
  },
  {
   "cell_type": "code",
   "execution_count": 26,
   "id": "69fdebef",
   "metadata": {},
   "outputs": [
    {
     "name": "stdout",
     "output_type": "stream",
     "text": [
      "aassddeee\n",
      "a2s2d2e3\n"
     ]
    }
   ],
   "source": [
    "s = input()\n",
    "stg = ''\n",
    "i = 1\n",
    "j = len(s)-1\n",
    "for x in range (j):\n",
    "    if s[x] == s[x + 1]:\n",
    "        i += 1\n",
    "    else:\n",
    "        stg += s[x] + str(i)\n",
    "        i = 1\n",
    "stg += s[-1] + str(i)\n",
    "print(stg)\n",
    "    "
   ]
  },
  {
   "cell_type": "code",
   "execution_count": 24,
   "id": "e52901cb",
   "metadata": {},
   "outputs": [
    {
     "name": "stdout",
     "output_type": "stream",
     "text": [
      "aaabbbccc\n",
      "c\n"
     ]
    }
   ],
   "source": [
    "s = input()\n",
    "x = s[-1]\n",
    "print(x)"
   ]
  },
  {
   "cell_type": "code",
   "execution_count": null,
   "id": "f5e252a8",
   "metadata": {},
   "outputs": [],
   "source": []
  }
 ],
 "metadata": {
  "kernelspec": {
   "display_name": "Python 3 (ipykernel)",
   "language": "python",
   "name": "python3"
  },
  "language_info": {
   "codemirror_mode": {
    "name": "ipython",
    "version": 3
   },
   "file_extension": ".py",
   "mimetype": "text/x-python",
   "name": "python",
   "nbconvert_exporter": "python",
   "pygments_lexer": "ipython3",
   "version": "3.10.2"
  }
 },
 "nbformat": 4,
 "nbformat_minor": 5
}
