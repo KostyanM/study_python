{
 "cells": [
  {
   "cell_type": "code",
   "execution_count": 17,
   "id": "933906ba",
   "metadata": {},
   "outputs": [
    {
     "name": "stdout",
     "output_type": "stream",
     "text": [
      "1 2;2 1;"
     ]
    }
   ],
   "source": [
    "dict={1:2, 2: 1}\n",
    "for key, value in dict.items():\n",
    "    print(key, value, end=';')"
   ]
  },
  {
   "cell_type": "code",
   "execution_count": 22,
   "id": "c72741ec",
   "metadata": {},
   "outputs": [
    {
     "name": "stdout",
     "output_type": "stream",
     "text": [
      "{1: 3, 2: 3, 4: 1}\n"
     ]
    }
   ],
   "source": [
    "dict={1:3, 2: 2}\n",
    "dict[2] = 3\n",
    "dict[2*2]=1\n",
    "print(dict)"
   ]
  },
  {
   "cell_type": "code",
   "execution_count": 81,
   "id": "4c259242",
   "metadata": {},
   "outputs": [
    {
     "name": "stdout",
     "output_type": "stream",
     "text": [
      "None\n",
      "{2: [-1]}\n",
      "{2: [-1, -2]}\n"
     ]
    }
   ],
   "source": [
    "d={}\n",
    "def update_dictionary(d, key, value):\n",
    "        if key in d:\n",
    "            d[key].append(value)\n",
    "        else:\n",
    "            if 2 * key in d:\n",
    "                d[2 * key].append(value)\n",
    "            else:\n",
    "                d[2 * key] = [value]\n",
    "        return\n",
    "print(update_dictionary(d, 1, -1))\n",
    "print(d)\n",
    "update_dictionary(d, 2, -2)\n",
    "print(d)"
   ]
  },
  {
   "cell_type": "code",
   "execution_count": 30,
   "id": "057db78d",
   "metadata": {},
   "outputs": [
    {
     "name": "stdout",
     "output_type": "stream",
     "text": [
      "{1: [2, 3], 3: [1, 5], 2: [1, 4, 1]}\n"
     ]
    }
   ],
   "source": [
    "dict={1:[2, 3], 3:[1, 5]}\n",
    "value = 1\n",
    "lst=[value]\n",
    "lst.append(4)\n",
    "lst.append(1)\n",
    "dict[1*2]=lst\n",
    "print(dict)"
   ]
  },
  {
   "cell_type": "code",
   "execution_count": 82,
   "id": "ec2d5858",
   "metadata": {},
   "outputs": [
    {
     "name": "stdout",
     "output_type": "stream",
     "text": [
      "None\n",
      "{2: [-1]}\n",
      "{2: [-1, -2]}\n"
     ]
    }
   ],
   "source": [
    "d={}\n",
    "def update_dictionary(d, key, value):\n",
    "    key += key * (key not in d)\n",
    "    d[key] = d.get(key, []) + [value]\n",
    "print(update_dictionary(d, 1, -1))\n",
    "print(d)\n",
    "update_dictionary(d, 2, -2)\n",
    "print(d)"
   ]
  },
  {
   "cell_type": "code",
   "execution_count": 107,
   "id": "ece05ce4",
   "metadata": {},
   "outputs": [
    {
     "name": "stdout",
     "output_type": "stream",
     "text": [
      "a aa\n",
      "{'a': 1, ' ': 0}"
     ]
    }
   ],
   "source": [
    "a = str(input())\n",
    "l2 = a.lower()\n",
    "ds={}\n",
    "s = 0\n",
    "for i in l2:\n",
    "    s = lst.count(i, 0, len(l2)+1)\n",
    "    ds[i]=s\n",
    "print(ds, end = '')\n"
   ]
  },
  {
   "cell_type": "code",
   "execution_count": 119,
   "id": "dffa5943",
   "metadata": {},
   "outputs": [
    {
     "name": "stdout",
     "output_type": "stream",
     "text": [
      "a aa\n",
      "a 1\n",
      "aa 1\n"
     ]
    }
   ],
   "source": [
    "words = [i.lower() for i in input().split()]\n",
    "s = 0\n",
    "ds = {}\n",
    "for n in set(words):\n",
    "    s = words.count(n)\n",
    "    ds[n]= s\n",
    "    \n",
    "    \n",
    "for key, values in ds.items():\n",
    "    print(key, values, end = '\\n')"
   ]
  },
  {
   "cell_type": "code",
   "execution_count": 170,
   "id": "79d234db",
   "metadata": {},
   "outputs": [
    {
     "name": "stdout",
     "output_type": "stream",
     "text": [
      "3\n",
      "1\n",
      "2\n",
      "1\n",
      "None\n",
      "None\n",
      "None\n"
     ]
    }
   ],
   "source": [
    "def f(key):\n",
    "    return\n",
    "\n",
    "q = int(input())\n",
    "dq = {}\n",
    "count = 0\n",
    "while count < q:\n",
    "    x = int(input())\n",
    "    if x not in dq:\n",
    "        dq[x]=f(x)\n",
    "    else:\n",
    "        dq[x*2]=dq[x]\n",
    "    count+=1\n",
    "for values in dq.values():\n",
    "    print(values, end = '\\n')"
   ]
  },
  {
   "cell_type": "code",
   "execution_count": 200,
   "id": "8e8ce525",
   "metadata": {},
   "outputs": [
    {
     "name": "stdout",
     "output_type": "stream",
     "text": [
      "3\n",
      "2\n",
      "3\n",
      "2\n",
      "{2: 8, 3: 27, 4: 8}\n",
      "[2, 3, 2]\n",
      "8 27 8 "
     ]
    }
   ],
   "source": [
    "def f(x):\n",
    "    return(x**3)\n",
    "\n",
    "q = int(input())\n",
    "dq = {}\n",
    "lst=[]\n",
    "#count = 0\n",
    "#while count < q:\n",
    "for i in range(q)\n",
    "    x = int(input())\n",
    "    lst.append(x)\n",
    "#    if x not in dq:\n",
    "for x in range(0, len(lst)):\n",
    "    key = lst[x]\n",
    "    if key in dq:\n",
    "        print(dq[key])\n",
    "    elif key not in dq:\n",
    "        \n",
    "#        dq ={x:f(x) for x in lst}\n",
    "    else:\n",
    "        dq[x*2]=dq[x]\n",
    "    count+=1\n",
    "print(dq)\n",
    "print(lst)\n",
    "#for values in dq.values():\n",
    "print(*dq.values(), end = ' ')\n"
   ]
  },
  {
   "cell_type": "code",
   "execution_count": 201,
   "id": "7d46b987",
   "metadata": {},
   "outputs": [
    {
     "name": "stdout",
     "output_type": "stream",
     "text": [
      "3\n",
      "2\n",
      "3\n",
      "2\n",
      "8\n",
      "27\n",
      "8\n"
     ]
    }
   ],
   "source": [
    "def f(x):\n",
    "    return(x**3)\n",
    "\n",
    "dq = {}\n",
    "lst=[]\n",
    "q = int(input())\n",
    "for i in range(q):\n",
    "    x = int(input())\n",
    "    lst.append(x)\n",
    "for x in range(0, len(lst)):\n",
    "    key = lst[x]\n",
    "    if key in dq:\n",
    "        print(dq[key])\n",
    "    elif key not in dq:\n",
    "        a = lst[x]\n",
    "        dq[key]=f(a)\n",
    "        print(dq.get(key))"
   ]
  },
  {
   "cell_type": "code",
   "execution_count": 202,
   "id": "1c37ae5b",
   "metadata": {},
   "outputs": [
    {
     "name": "stdout",
     "output_type": "stream",
     "text": [
      "3\n",
      "2\n",
      "3\n",
      "2\n",
      "8\n",
      "27\n",
      "8\n"
     ]
    }
   ],
   "source": [
    "a=[int(input()) for i in range(int(input()))]\n",
    "b={x:f(x) for x in set(a)}\n",
    "for i in a:\n",
    "    print(b[i])"
   ]
  },
  {
   "cell_type": "code",
   "execution_count": 203,
   "id": "e768dcf3",
   "metadata": {},
   "outputs": [
    {
     "name": "stdout",
     "output_type": "stream",
     "text": [
      "3\n",
      "2\n",
      "8\n",
      "3\n",
      "27\n",
      "2\n",
      "8\n"
     ]
    }
   ],
   "source": [
    "a = {}\n",
    "for i in range(int(input())):\n",
    "    b = int(input())\n",
    "    if b not in a:\n",
    "        a[b] = f(b)\n",
    "    print(a[b])"
   ]
  },
  {
   "cell_type": "code",
   "execution_count": null,
   "id": "c3dccc43",
   "metadata": {},
   "outputs": [],
   "source": []
  }
 ],
 "metadata": {
  "kernelspec": {
   "display_name": "Python 3 (ipykernel)",
   "language": "python",
   "name": "python3"
  },
  "language_info": {
   "codemirror_mode": {
    "name": "ipython",
    "version": 3
   },
   "file_extension": ".py",
   "mimetype": "text/x-python",
   "name": "python",
   "nbconvert_exporter": "python",
   "pygments_lexer": "ipython3",
   "version": "3.10.2"
  }
 },
 "nbformat": 4,
 "nbformat_minor": 5
}
