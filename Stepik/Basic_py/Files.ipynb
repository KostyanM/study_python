{
 "cells": [
  {
   "cell_type": "code",
   "execution_count": 3,
   "id": "2b25e13e",
   "metadata": {},
   "outputs": [
    {
     "name": "stdout",
     "output_type": "stream",
     "text": [
      "a aa a\n",
      "{'a': 2, 'aa': 1}\n",
      "a 2\n",
      "a 2\n",
      "aa 1\n"
     ]
    }
   ],
   "source": [
    "words = [i.lower() for i in input().split()]\n",
    "s = 0\n",
    "ds = {}\n",
    "for n in set(words):\n",
    "    s = words.count(n)\n",
    "    ds[n]= s\n",
    "m_k=max(ds, key=ds.get)\n",
    "print(ds)\n",
    "print(m_k, ds[m_k])          "
   ]
  },
  {
   "cell_type": "code",
   "execution_count": 198,
   "id": "152eb188",
   "metadata": {},
   "outputs": [],
   "source": [
    "lst=[]\n",
    "avg=[]\n",
    "math=[]\n",
    "fiz=[]\n",
    "rus=[]\n",
    "\n",
    "with open('dataset_3363_4.txt', 'r') as l:\n",
    "        spisok=l.readlines()\n",
    "for line in spisok:\n",
    "    lst.append(line.strip().split(';'))\n",
    "for i in lst:\n",
    "    avg.append(round(((int(i[1])+int(i[2])+int(i[3])) / 3),9))\n",
    "    math.append(int(i[1]))\n",
    "    fiz.append(int(i[2]))\n",
    "    rus.append(int(i[3]))\n",
    "q=open('avg_list_out.txt', 'w+')\n",
    "for i in avg:\n",
    "    print(i, file=q)\n",
    "print(*(round(sum(math)/len(math), 9), round(sum(fiz)/len(fiz), 9), round(sum(rus)/len(rus), 9)), file=q)\n",
    "    \n"
   ]
  },
  {
   "cell_type": "code",
   "execution_count": 199,
   "id": "fa7b8369",
   "metadata": {},
   "outputs": [],
   "source": [
    "with open('dataset_3363_4.txt', 'r', encoding='utf-8') as inf, open('avg_out.txt', 'w', encoding='utf-8') as ouf:\n",
    "    s = [list(map(int, line.strip().split(\";\")[1:])) for line in inf]\n",
    "    [ouf.write(str((a + b + c) / 3) + \"\\n\") for a, b, c in s]\n",
    "    ouf.write(str(sum([a for a, b, c in s]) / len(s)) + \" \")\n",
    "    ouf.write(str(sum([b for a, b, c in s]) / len(s)) + \" \")\n",
    "    ouf.write(str(sum([c for a, b, c in s]) / len(s)))"
   ]
  },
  {
   "cell_type": "code",
   "execution_count": 35,
   "id": "613f9598",
   "metadata": {},
   "outputs": [
    {
     "name": "stdout",
     "output_type": "stream",
     "text": [
      "azb 9\n"
     ]
    }
   ],
   "source": [
    "with open('dataset_3363_3.txt', 'r') as stroky:\n",
    "    words = stroky.read().lower().split()\n",
    "for x in words:\n",
    "    s = 0\n",
    "    ds = {}\n",
    "    for n in set(words):\n",
    "        s = words.count(n)\n",
    "        ds[n]= s\n",
    "    m_k=max(ds, key=ds.get)\n",
    "\n",
    "with open('max_key_out.txt', 'w') as out:\n",
    "    out.writelines(m_k + ' ' + str(ds[m_k]))\n",
    "\n",
    "print(m_k, ds[m_k])"
   ]
  },
  {
   "cell_type": "code",
   "execution_count": 36,
   "id": "fe377118",
   "metadata": {},
   "outputs": [
    {
     "name": "stdout",
     "output_type": "stream",
     "text": [
      "azb 9\n"
     ]
    }
   ],
   "source": [
    "with open('dataset_3363_3.txt') as f:\n",
    "    text = f.read().lower().split()\n",
    "popular_word = max(set(text), key=text.count)\n",
    "print(popular_word, text.count(popular_word))"
   ]
  },
  {
   "cell_type": "code",
   "execution_count": 75,
   "id": "77127e2c",
   "metadata": {},
   "outputs": [],
   "source": [
    "with open('dataset_3363_2.txt', 'r') as inf:\n",
    "    s1 = inf.readline().strip()\n",
    "tmp=''\n",
    "tmp_d=''\n",
    "s2=''\n",
    "for i in s1:\n",
    "    tmp+=i\n",
    "    if tmp.isalpha()==True:\n",
    "        if tmp_d=='':\n",
    "            s2+=tmp\n",
    "            tmp=''\n",
    "        else:\n",
    "            s2+=s2[-1]*(int(tmp_d)-1)\n",
    "            s2+=tmp\n",
    "            tmp=''\n",
    "            tmp_d=''\n",
    "    elif tmp.isdigit()==True:\n",
    "        tmp_d+=tmp\n",
    "        tmp=''\n",
    "s2+=s2[-1]*(int(tmp_d)-1)\n",
    "with open('dataset_out.txt', 'w') as out:\n",
    "    out.write(s2)"
   ]
  },
  {
   "cell_type": "code",
   "execution_count": 77,
   "id": "ccfcd90f",
   "metadata": {},
   "outputs": [
    {
     "name": "stdout",
     "output_type": "stream",
     "text": [
      "aaabbbbcceeeeeeeeeebbbbbbbbbbb\n"
     ]
    }
   ],
   "source": [
    "s1 = 'a3b4c2e10b11'\n",
    "tmp=''\n",
    "tmp_d=''\n",
    "s2=''\n",
    "for i in s1:\n",
    "    tmp+=i\n",
    "    if tmp.isalpha()==True:\n",
    "        if tmp_d=='':\n",
    "            s2+=tmp\n",
    "            tmp=''\n",
    "        else:\n",
    "            s2+=s2[-1]*(int(tmp_d)-1)\n",
    "            s2+=tmp\n",
    "            tmp=''\n",
    "            tmp_d=''\n",
    "    elif tmp.isdigit()==True:\n",
    "        tmp_d+=tmp\n",
    "        tmp=''\n",
    "s2+=s2[-1]*(int(tmp_d)-1)\n",
    "print(s2)"
   ]
  },
  {
   "cell_type": "code",
   "execution_count": 76,
   "id": "309a3ef2",
   "metadata": {},
   "outputs": [
    {
     "name": "stdout",
     "output_type": "stream",
     "text": [
      "aaabbbbcceeeeeeeeeebbbbbbbbbbb\n"
     ]
    }
   ],
   "source": [
    "s1 = 'a3b4c2e10b11'\n",
    "result = ''\n",
    "alpha = ''\n",
    "digit = 0\n",
    "\n",
    "for i in s1:\n",
    "    if i.isalpha():\n",
    "        result += alpha * digit\n",
    "        alpha = i\n",
    "        digit = 0\n",
    "    if i.isdigit():\n",
    "        digit = int(str(digit) + i)\n",
    "        \n",
    "result += alpha * digit\n",
    "\n",
    "print(result)"
   ]
  },
  {
   "cell_type": "code",
   "execution_count": null,
   "id": "8b716571",
   "metadata": {},
   "outputs": [],
   "source": []
  }
 ],
 "metadata": {
  "kernelspec": {
   "display_name": "Python 3 (ipykernel)",
   "language": "python",
   "name": "python3"
  },
  "language_info": {
   "codemirror_mode": {
    "name": "ipython",
    "version": 3
   },
   "file_extension": ".py",
   "mimetype": "text/x-python",
   "name": "python",
   "nbconvert_exporter": "python",
   "pygments_lexer": "ipython3",
   "version": "3.10.2"
  }
 },
 "nbformat": 4,
 "nbformat_minor": 5
}
