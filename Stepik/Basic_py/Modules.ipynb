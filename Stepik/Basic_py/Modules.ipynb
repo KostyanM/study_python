{
 "cells": [
  {
   "cell_type": "code",
   "execution_count": 9,
   "id": "bdd34d39",
   "metadata": {},
   "outputs": [
    {
     "name": "stdout",
     "output_type": "stream",
     "text": [
      "5\n",
      "31.41592653589793\n"
     ]
    }
   ],
   "source": [
    "import math\n",
    "r = int(input())\n",
    "P=math.pi*r*2\n",
    "print(P)"
   ]
  },
  {
   "cell_type": "code",
   "execution_count": 26,
   "id": "998ea1cf",
   "metadata": {},
   "outputs": [
    {
     "name": "stdout",
     "output_type": "stream",
     "text": [
      "-f\n",
      "C:\\Users\\Kostya\\AppData\\Roaming\\jupyter\\runtime\\kernel-70d458d5-00ae-4a33-b264-2c322cf065a3.json\n"
     ]
    }
   ],
   "source": [
    "import sys\n",
    "for i in sys.argv[1:]:\n",
    "    print(i)"
   ]
  },
  {
   "cell_type": "code",
   "execution_count": 76,
   "id": "ff28e12b",
   "metadata": {},
   "outputs": [
    {
     "name": "stdout",
     "output_type": "stream",
     "text": [
      "54\n"
     ]
    }
   ],
   "source": [
    "import requests\n",
    "with open('dataset_3378_2.txt', 'r') as f:\n",
    "    url=f.readline().strip()\n",
    "    r = requests.get(url)\n",
    "    q=r.text.splitlines()\n",
    "\n",
    "print(len(q))"
   ]
  },
  {
   "cell_type": "code",
   "execution_count": 122,
   "id": "922328a6",
   "metadata": {},
   "outputs": [
    {
     "name": "stdout",
     "output_type": "stream",
     "text": [
      "https://stepic.org/media/attachments/course67/3.6.3/699991.txt\n",
      "213837.txt\n",
      "We are the champions, my friends,\n",
      "And we'll keep on fighting 'til the end.\n",
      "We are the champions.\n",
      "We are the champions.\n",
      "No time for losers\n",
      "'Cause we are the champions of the world.\n"
     ]
    }
   ],
   "source": [
    "import requests\n",
    "url=''\n",
    "http='https://stepic.org/media/attachments/course67/3.6.3/'\n",
    "with open('dataset_3378_3.txt', 'r') as fn:\n",
    "    url=fn.readline().strip()\n",
    "while True:\n",
    "    req=requests.get(url)\n",
    "    if req.text[0:2]!='We':\n",
    "        url=http + req.text\n",
    "    else:\n",
    "        print(req.text)\n",
    "        break\n"
   ]
  },
  {
   "cell_type": "code",
   "execution_count": null,
   "id": "f6cb627f",
   "metadata": {},
   "outputs": [],
   "source": [
    "n = int(input('igry: '))\n",
    "x_list = [input('k1;g1;k2;g2: ').split(';') for x in range(n)]\n",
    "vs = [(x[0], x[2]) for x in x_list]\n",
    "import itertools\n",
    "clubs = set(itertools.chain.from_iterable(vs))\n",
    "rez = {club:[0, 0, 0, 0, 0] for club in clubs}\n",
    "for k1, g1, k2, g2 in x_list:\n",
    "    res[k1][0] += 1\n",
    "    res[k2][0] += 1\n",
    "    if int(g1) > int(g2):\n",
    "        res[k1][1] += 1\n",
    "        res[k1][4] += 3\n",
    "        res[k2][3] += 1\n",
    "    elif int(g1) < int(gol2):\n",
    "        res[k2][1] += 1\n",
    "        res[k2][4] += 3\n",
    "        res[k1][3] += 1\n",
    "    elif int(g1) == int(gol2):\n",
    "        res[k1][2] += 1\n",
    "        res[k1][4] += 1\n",
    "        res[k2][2] += 1\n",
    "        res[k2][4] += 1\n",
    "for club in clubs:\n",
    "    print('{}:{}'.format(club, ' '.join(map(str, res[club]))))"
   ]
  }
 ],
 "metadata": {
  "kernelspec": {
   "display_name": "Python 3 (ipykernel)",
   "language": "python",
   "name": "python3"
  },
  "language_info": {
   "codemirror_mode": {
    "name": "ipython",
    "version": 3
   },
   "file_extension": ".py",
   "mimetype": "text/x-python",
   "name": "python",
   "nbconvert_exporter": "python",
   "pygments_lexer": "ipython3",
   "version": "3.10.2"
  }
 },
 "nbformat": 4,
 "nbformat_minor": 5
}
