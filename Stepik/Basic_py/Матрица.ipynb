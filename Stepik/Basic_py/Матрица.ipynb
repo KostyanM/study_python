{
 "cells": [
  {
   "cell_type": "code",
   "execution_count": null,
   "id": "c751a696",
   "metadata": {},
   "outputs": [],
   "source": []
  },
  {
   "cell_type": "code",
   "execution_count": null,
   "id": "15430e33",
   "metadata": {},
   "outputs": [],
   "source": []
  },
  {
   "cell_type": "code",
   "execution_count": 125,
   "id": "eca1b8d2",
   "metadata": {},
   "outputs": [
    {
     "name": "stdout",
     "output_type": "stream",
     "text": [
      "1 2 3\n",
      "4 5 6\n",
      "end\n",
      "[[1, 2, 3], [4, 5, 6]]\n",
      "13 14 15 \n",
      "13 14 15 \n"
     ]
    }
   ],
   "source": [
    "n = ''\n",
    "m = []\n",
    "while True:\n",
    "    n = str(input())\n",
    "    if n == 'end':\n",
    "        break\n",
    "    m.append([int(x) for x in n.split()])\n",
    "print(m)    \n",
    "w = len(m)\n",
    "h = len(m[0])\n",
    "m_new = [[sum([m[(i+1)%w][j], m[i][(j+1)%h], m[i-1][j], m[i][j-1]]) for j in range(h)] for i in range(w)]\n",
    "\n",
    "for i in range(w):\n",
    "    for j in range(h):\n",
    "        print(m_new[i][j], end =' ')\n",
    "    print()"
   ]
  },
  {
   "cell_type": "code",
   "execution_count": 176,
   "id": "4fb9dc38",
   "metadata": {},
   "outputs": [
    {
     "name": "stdout",
     "output_type": "stream",
     "text": [
      "3\n",
      "[1, 2, 3, 4, 5, 6, 7, 8, 9]\n",
      "[[0, 0, 0], [0, 0, 0], [0, 0, 0]]\n",
      "<class 'list'>\n",
      "0 0 0 \n",
      "0 0 0 \n",
      "0 0 0 \n"
     ]
    }
   ],
   "source": [
    "n = int(input())\n",
    "m = [[int(0)] * n for i in range(n)]\n",
    "lst = [int(x) for x in range(1, n**2+1)]\n",
    "print(lst)\n",
    "print(m)\n",
    "print(type(m))\n",
    "for i in range(n):\n",
    "    for j in range(n):\n",
    "        print(m[i][j], end = ' ')\n",
    "    print()"
   ]
  },
  {
   "cell_type": "code",
   "execution_count": 186,
   "id": "75e37033",
   "metadata": {
    "scrolled": true
   },
   "outputs": [
    {
     "name": "stdout",
     "output_type": "stream",
     "text": [
      "3\n",
      "1 2 3 \n",
      "8 9 4 \n",
      "7 6 5 \n"
     ]
    }
   ],
   "source": [
    "n = int(input())\n",
    "di, dj = 0, 1\n",
    "i, j = 0, 0\n",
    "m = [[None] * n for _ in range(n)]\n",
    "for x in range(1, n**2+1):\n",
    "    m[i][j] = x\n",
    "    ni, nj = i+di, j+dj\n",
    "    if 0 <= ni < n and 0 <= nj < n and not m[ni][nj]:\n",
    "        i, j = ni, nj\n",
    "    else:\n",
    "        di, dj = dj, -di\n",
    "        i, j = i+di, j+dj\n",
    "for i in range(n):\n",
    "    for j in range(n):\n",
    "        print(m[i][j], end = ' ')\n",
    "    print()"
   ]
  },
  {
   "cell_type": "code",
   "execution_count": null,
   "id": "6462f2dd",
   "metadata": {},
   "outputs": [],
   "source": []
  }
 ],
 "metadata": {
  "kernelspec": {
   "display_name": "Python 3 (ipykernel)",
   "language": "python",
   "name": "python3"
  },
  "language_info": {
   "codemirror_mode": {
    "name": "ipython",
    "version": 3
   },
   "file_extension": ".py",
   "mimetype": "text/x-python",
   "name": "python",
   "nbconvert_exporter": "python",
   "pygments_lexer": "ipython3",
   "version": "3.10.2"
  }
 },
 "nbformat": 4,
 "nbformat_minor": 5
}
