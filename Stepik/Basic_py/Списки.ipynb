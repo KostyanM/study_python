{
 "cells": [
  {
   "cell_type": "code",
   "execution_count": 1,
   "id": "0a0e5aa3",
   "metadata": {},
   "outputs": [
    {
     "name": "stdout",
     "output_type": "stream",
     "text": [
      "['Ivan', 'Masha', 'Sasha', 'Olga', 'O', 'l', 'g', 'a']\n"
     ]
    }
   ],
   "source": [
    "students = ['Ivan', 'Masha', 'Sasha']\n",
    "students += ['Olga']\n",
    "students += 'Olga'\n",
    "print(students)"
   ]
  },
  {
   "cell_type": "code",
   "execution_count": 4,
   "id": "1a051e3b",
   "metadata": {},
   "outputs": [
    {
     "name": "stdout",
     "output_type": "stream",
     "text": [
      "[1, 2, 3]\n",
      "[1, 10, 3]\n",
      "[20, 10, 3]\n",
      "[20, 10, 3]\n"
     ]
    }
   ],
   "source": [
    "a = [1, 2, 3]\n",
    "b = a\n",
    "print(b)\n",
    "a[1] = 10\n",
    "print(b)\n",
    "b[0] = 20\n",
    "print(a)\n",
    "a = [5,6]\n",
    "print(b)"
   ]
  },
  {
   "cell_type": "code",
   "execution_count": 44,
   "id": "f6a3d62c",
   "metadata": {},
   "outputs": [
    {
     "name": "stdout",
     "output_type": "stream",
     "text": [
      "4 -1 9 3\n",
      "[4, -1, 9, 3]\n",
      "15\n"
     ]
    }
   ],
   "source": [
    "a = [int(i) for i in input().split()]\n",
    "print(sum(a))"
   ]
  },
  {
   "cell_type": "code",
   "execution_count": 43,
   "id": "cf8cc2bb",
   "metadata": {},
   "outputs": [
    {
     "name": "stdout",
     "output_type": "stream",
     "text": [
      "11\n"
     ]
    }
   ],
   "source": [
    "chars = [1,-2,3,4,5]\n",
    "print(sum(chars))\n"
   ]
  },
  {
   "cell_type": "code",
   "execution_count": 148,
   "id": "c9f3278e",
   "metadata": {},
   "outputs": [
    {
     "name": "stdout",
     "output_type": "stream",
     "text": [
      "1 3 5 6 10\n",
      "[13, 6, 9, 15, 7] "
     ]
    }
   ],
   "source": [
    "a = [int(i) for i in input().split()]\n",
    "s = [0] * len(a)\n",
    "if len(a) == 1:\n",
    "    s = a\n",
    "else:\n",
    "    s[0] = a[1] + a[-1]\n",
    "    s[-1] = a[-2] + a[0]\n",
    "for i in range(1,len(a)-1):\n",
    "        s[i] = a[i-1] + a[i+1]    \n",
    "print(' '.join(map(str,s)))"
   ]
  },
  {
   "cell_type": "code",
   "execution_count": 139,
   "id": "33a056f8",
   "metadata": {},
   "outputs": [
    {
     "name": "stdout",
     "output_type": "stream",
     "text": [
      "1\n",
      "2\n",
      "3\n"
     ]
    }
   ],
   "source": [
    "a = 5\n",
    "for i in range(1,a-1):\n",
    "    print(i)\n"
   ]
  },
  {
   "cell_type": "code",
   "execution_count": 262,
   "id": "2ea4f051",
   "metadata": {},
   "outputs": [
    {
     "name": "stdout",
     "output_type": "stream",
     "text": [
      "-1 -1 -1 2 2\n",
      "-1 2\n"
     ]
    }
   ],
   "source": [
    "s = [int(i) for i in input().split()]\n",
    "s.sort()\n",
    "stg = []\n",
    "i = 0\n",
    "j = len(s)\n",
    "for x in range (j):\n",
    "    if j == 1:\n",
    "        break\n",
    "    if s[x] not in stg:\n",
    "        if s[x] == s[x + 1 - len(s)]:\n",
    "            i += 1\n",
    "            x += 1\n",
    "            stg += [s[x]]\n",
    "    else:\n",
    "        i = 0\n",
    "print(' '.join(map(str,stg)))"
   ]
  },
  {
   "cell_type": "code",
   "execution_count": 4,
   "id": "1fc6039a",
   "metadata": {},
   "outputs": [
    {
     "name": "stdout",
     "output_type": "stream",
     "text": [
      "2\n",
      "-3\n",
      "-2\n",
      "3\n",
      "26\n"
     ]
    }
   ],
   "source": [
    "a = int(input())\n",
    "s1 = a\n",
    "s2 = a**2\n",
    "while s1!= 0:\n",
    "    a = int(input())\n",
    "    s1 = s1 + a\n",
    "    s2 = s2 + a**2\n",
    "#    if s1 == 0:\n",
    "#        break\n",
    "print(s2)"
   ]
  },
  {
   "cell_type": "code",
   "execution_count": 108,
   "id": "ca9559c4",
   "metadata": {},
   "outputs": [
    {
     "name": "stdout",
     "output_type": "stream",
     "text": [
      "4\n",
      "1 2 2 3\n",
      "<class 'str'>\n"
     ]
    }
   ],
   "source": [
    "n = int(input())\n",
    "lst=[]\n",
    "string=()\n",
    "for i in range(1, n+1):\n",
    "    lst.append(str(i)*i)\n",
    "    string = ''.join(lst)\n",
    "string = string[0:n]\n",
    "print(*string)\n",
    "print(type(string))"
   ]
  },
  {
   "cell_type": "code",
   "execution_count": 94,
   "id": "da3aad1f",
   "metadata": {},
   "outputs": [
    {
     "name": "stdout",
     "output_type": "stream",
     "text": [
      "4\n",
      "1 2 2 3 <class 'list'>\n"
     ]
    }
   ],
   "source": [
    "a=int(input())\n",
    "m=[]\n",
    "for i in range(a):\n",
    "    j=0\n",
    "    while j<i+1:\n",
    "        m.append(i+1)\n",
    "        j+=1\n",
    "    if len(m)>a: break\n",
    "m=m[0:a]\n",
    "for i in m:\n",
    "    print(i, end=\" \")\n",
    "print(type(m))"
   ]
  },
  {
   "cell_type": "code",
   "execution_count": 105,
   "id": "20394f07",
   "metadata": {},
   "outputs": [
    {
     "name": "stdout",
     "output_type": "stream",
     "text": [
      "4\n",
      "1 22 333 4444\n",
      "<class 'list'>\n"
     ]
    }
   ],
   "source": [
    "n = int(input())\n",
    "lst=[]\n",
    "#string=()\n",
    "for i in range(1,n+1):\n",
    "    lst.append(str(i)*i)\n",
    "#    string = ''.join(lst)\n",
    "lst = lst[0:n]\n",
    "print(*lst)\n",
    "print(type(lst))"
   ]
  },
  {
   "cell_type": "code",
   "execution_count": 163,
   "id": "d0fce861",
   "metadata": {},
   "outputs": [
    {
     "name": "stdout",
     "output_type": "stream",
     "text": [
      "4\n",
      "1223\n",
      "<class 'list'>\n"
     ]
    }
   ],
   "source": [
    "n = int(input())\n",
    "lst=[]\n",
    "string=()\n",
    "for i in range(1, n+1):\n",
    "    lst.append(str(i)*i)\n",
    "    string = ''.join(lst)\n",
    "string = string[0:n]\n",
    "lst = string.split()\n",
    "print(*lst)\n",
    "print(type(lst))"
   ]
  },
  {
   "cell_type": "code",
   "execution_count": 133,
   "id": "5524abf5",
   "metadata": {},
   "outputs": [
    {
     "name": "stdout",
     "output_type": "stream",
     "text": [
      "7\n",
      "1 2 2 3 3 3 4\n"
     ]
    }
   ],
   "source": [
    "a = int(input())\n",
    "lst = []\n",
    "for i in range(a):\n",
    "    x = 0\n",
    "    while x <= i:\n",
    "        lst.append(i+1)\n",
    "        x +=1\n",
    "    if len(lst) > a:\n",
    "        break\n",
    "lst = lst[0:a]\n",
    "print(*lst)"
   ]
  },
  {
   "cell_type": "code",
   "execution_count": 134,
   "id": "cbb22fcd",
   "metadata": {},
   "outputs": [
    {
     "name": "stdout",
     "output_type": "stream",
     "text": [
      "7\n",
      "1 2 2 3 3 3 4\n"
     ]
    }
   ],
   "source": [
    "n = int(input())\n",
    "a = []\n",
    "i = 0\n",
    "while len(a) < n:\n",
    "    a += [i] * i\n",
    "    i += 1\n",
    "print(*a[:n])"
   ]
  },
  {
   "cell_type": "code",
   "execution_count": 143,
   "id": "f37bb982",
   "metadata": {},
   "outputs": [
    {
     "name": "stdout",
     "output_type": "stream",
     "text": [
      "1 2 3 2 4\n",
      "5\n",
      "Отсутствует\n",
      "\n"
     ]
    }
   ],
   "source": [
    "lst = [int(i) for i in input().split()]\n",
    "x = int(input())\n",
    "ind = []\n",
    "for i in range(len(lst)):\n",
    "    if x == lst[i]:\n",
    "        ind.append(i)\n",
    "if ind == []:\n",
    "    print('Отсутствует')\n",
    "print(*ind)\n",
    "        \n",
    "        \n",
    "\n",
    "        "
   ]
  },
  {
   "cell_type": "code",
   "execution_count": 160,
   "id": "b17d99de",
   "metadata": {},
   "outputs": [
    {
     "name": "stdout",
     "output_type": "stream",
     "text": [
      "1 2 3\n",
      "4 5 6\n",
      "7 8 9\n",
      "1 2 3\n"
     ]
    }
   ],
   "source": [
    "y = [[int(j) for j in input().split()] for i in input().split()]\n",
    "\n"
   ]
  },
  {
   "cell_type": "code",
   "execution_count": 146,
   "id": "88da046d",
   "metadata": {},
   "outputs": [
    {
     "name": "stdout",
     "output_type": "stream",
     "text": [
      "3\n",
      "1 2 3\n",
      "4\n",
      "5 6 7\n"
     ]
    }
   ],
   "source": [
    "n = int(input()) \n",
    "a = [[int(j) for j in input().split()] for i in range(n)]"
   ]
  },
  {
   "cell_type": "code",
   "execution_count": null,
   "id": "feac8a3d",
   "metadata": {},
   "outputs": [],
   "source": []
  }
 ],
 "metadata": {
  "kernelspec": {
   "display_name": "Python 3 (ipykernel)",
   "language": "python",
   "name": "python3"
  },
  "language_info": {
   "codemirror_mode": {
    "name": "ipython",
    "version": 3
   },
   "file_extension": ".py",
   "mimetype": "text/x-python",
   "name": "python",
   "nbconvert_exporter": "python",
   "pygments_lexer": "ipython3",
   "version": "3.10.2"
  }
 },
 "nbformat": 4,
 "nbformat_minor": 5
}
