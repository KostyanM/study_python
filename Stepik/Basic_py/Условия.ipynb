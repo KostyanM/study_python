{
 "cells": [
  {
   "cell_type": "code",
   "execution_count": 22,
   "id": "c669966a",
   "metadata": {},
   "outputs": [
    {
     "name": "stdout",
     "output_type": "stream",
     "text": [
      "6\n",
      "10\n",
      "8\n",
      "Это нормально\n"
     ]
    }
   ],
   "source": [
    "A=int(input())\n",
    "B=int(input())\n",
    "H=int(input())\n",
    "if A>B:\n",
    "    print ('Неверное значение')\n",
    "elif A<=H<=B:\n",
    "    print ('Это нормально')\n",
    "elif H<A:\n",
    "    print ('Недосып')\n",
    "elif H>B:\n",
    "    print ('Пересып')"
   ]
  },
  {
   "cell_type": "code",
   "execution_count": 42,
   "id": "8b8afb7d",
   "metadata": {},
   "outputs": [
    {
     "name": "stdout",
     "output_type": "stream",
     "text": [
      "3100\n",
      "error\n"
     ]
    }
   ],
   "source": [
    "Y=int(input())\n",
    "if 1900<=Y<=3000:\n",
    "    X1=Y%4\n",
    "    X2=Y%100\n",
    "    X3=Y%400\n",
    "    if X3==0:\n",
    "        print ('Высокосный')\n",
    "    elif X1==0 and X2!=0:\n",
    "        print ('Высокосный')\n",
    "    else:\n",
    "        print('Обычный')\n",
    "else:\n",
    "    print ('error')"
   ]
  },
  {
   "cell_type": "code",
   "execution_count": null,
   "id": "10c83fa7",
   "metadata": {},
   "outputs": [],
   "source": []
  }
 ],
 "metadata": {
  "kernelspec": {
   "display_name": "Python 3",
   "language": "python",
   "name": "python3"
  },
  "language_info": {
   "codemirror_mode": {
    "name": "ipython",
    "version": 3
   },
   "file_extension": ".py",
   "mimetype": "text/x-python",
   "name": "python",
   "nbconvert_exporter": "python",
   "pygments_lexer": "ipython3",
   "version": "3.9.5"
  }
 },
 "nbformat": 4,
 "nbformat_minor": 5
}
