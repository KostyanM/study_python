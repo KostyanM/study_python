{
 "cells": [
  {
   "cell_type": "code",
   "execution_count": 7,
   "id": "0c41e267",
   "metadata": {},
   "outputs": [
    {
     "name": "stdout",
     "output_type": "stream",
     "text": [
      "233168\n",
      "467\n",
      "0 3 5 6 9 10 12 15 18 20 21 24 25 27 30 33 35 36 39 40 42 45 48 50 51 54 55 57 60 63 65 66 69 70 72 75 78 80 81 84 85 87 90 93 95 96 99 100 102 105 108 110 111 114 115 117 120 123 125 126 129 130 132 135 138 140 141 144 145 147 150 153 155 156 159 160 162 165 168 170 171 174 175 177 180 183 185 186 189 190 192 195 198 200 201 204 205 207 210 213 215 216 219 220 222 225 228 230 231 234 235 237 240 243 245 246 249 250 252 255 258 260 261 264 265 267 270 273 275 276 279 280 282 285 288 290 291 294 295 297 300 303 305 306 309 310 312 315 318 320 321 324 325 327 330 333 335 336 339 340 342 345 348 350 351 354 355 357 360 363 365 366 369 370 372 375 378 380 381 384 385 387 390 393 395 396 399 400 402 405 408 410 411 414 415 417 420 423 425 426 429 430 432 435 438 440 441 444 445 447 450 453 455 456 459 460 462 465 468 470 471 474 475 477 480 483 485 486 489 490 492 495 498 500 501 504 505 507 510 513 515 516 519 520 522 525 528 530 531 534 535 537 540 543 545 546 549 550 552 555 558 560 561 564 565 567 570 573 575 576 579 580 582 585 588 590 591 594 595 597 600 603 605 606 609 610 612 615 618 620 621 624 625 627 630 633 635 636 639 640 642 645 648 650 651 654 655 657 660 663 665 666 669 670 672 675 678 680 681 684 685 687 690 693 695 696 699 700 702 705 708 710 711 714 715 717 720 723 725 726 729 730 732 735 738 740 741 744 745 747 750 753 755 756 759 760 762 765 768 770 771 774 775 777 780 783 785 786 789 790 792 795 798 800 801 804 805 807 810 813 815 816 819 820 822 825 828 830 831 834 835 837 840 843 845 846 849 850 852 855 858 860 861 864 865 867 870 873 875 876 879 880 882 885 888 890 891 894 895 897 900 903 905 906 909 910 912 915 918 920 921 924 925 927 930 933 935 936 939 940 942 945 948 950 951 954 955 957 960 963 965 966 969 970 972 975 978 980 981 984 985 987 990 993 995 996 999\n"
     ]
    }
   ],
   "source": [
    "lst = []\n",
    "s = 0\n",
    "for i in range(1000):\n",
    "    if i % 3 == 0 or i % 5 == 0:\n",
    "        s+=i\n",
    "        lst.append(i)\n",
    "print(s)\n",
    "print(len(lst))\n",
    "print(*lst)"
   ]
  },
  {
   "cell_type": "code",
   "execution_count": 25,
   "id": "f7db16b2",
   "metadata": {},
   "outputs": [
    {
     "name": "stdout",
     "output_type": "stream",
     "text": [
      "10\n",
      "0 1 1 2 3 5 8 13 21 34\n",
      "44\n"
     ]
    }
   ],
   "source": [
    "n = int(input())\n",
    "lst = [0, 1]\n",
    "s = 0\n",
    "i = 0\n",
    "#while True:\n",
    "#    if lst[i] < n:\n",
    "[lst.append(lst[i-1]+lst[i-2]) for i in range(2, n)]\n",
    "#    else:\n",
    "#        break\n",
    "for i in lst:\n",
    "    if i % 2 == 0:\n",
    "        s+=i\n",
    "print(*lst)\n",
    "print(s)"
   ]
  },
  {
   "cell_type": "code",
   "execution_count": 34,
   "id": "64f7e14f",
   "metadata": {},
   "outputs": [
    {
     "name": "stdout",
     "output_type": "stream",
     "text": [
      "4000000\n",
      "2 8 34 144 610 2584 10946 46368 196418 832040 3524578\n",
      "4613732\n"
     ]
    }
   ],
   "source": [
    "def Fibonacci():\n",
    "    f0, f1 = 1, 1\n",
    "    while True:\n",
    "        yield f0\n",
    "        f0, f1 = f1, f0+f1\n",
    "\n",
    "a = int(input())\n",
    "#s = 0\n",
    "fibs = []\n",
    "for f in Fibonacci():\n",
    "    if f<=a and f%2==0:\n",
    "        fibs.append(f)\n",
    "    elif f>a:\n",
    "        break\n",
    "#for i in fibs:\n",
    "#    if i % 2 == 0:\n",
    "#        s+=i\n",
    "print (*fibs)\n",
    "print(sum(fibs))"
   ]
  },
  {
   "cell_type": "code",
   "execution_count": 57,
   "id": "60c73451",
   "metadata": {},
   "outputs": [
    {
     "ename": "KeyboardInterrupt",
     "evalue": "",
     "output_type": "error",
     "traceback": [
      "\u001b[1;31m---------------------------------------------------------------------------\u001b[0m",
      "\u001b[1;31mKeyboardInterrupt\u001b[0m                         Traceback (most recent call last)",
      "Input \u001b[1;32mIn [57]\u001b[0m, in \u001b[0;36m<module>\u001b[1;34m\u001b[0m\n\u001b[0;32m      5\u001b[0m         lst\u001b[38;5;241m.\u001b[39mappend(i)\n\u001b[0;32m      6\u001b[0m     \u001b[38;5;28;01melse\u001b[39;00m:\n\u001b[1;32m----> 7\u001b[0m         \u001b[38;5;28;01mcontinue\u001b[39;00m\n\u001b[0;32m      8\u001b[0m \u001b[38;5;28mprint\u001b[39m(\u001b[38;5;28mmax\u001b[39m(lst))\n\u001b[0;32m      9\u001b[0m \u001b[38;5;28mprint\u001b[39m(\u001b[38;5;241m*\u001b[39mlst)\n",
      "\u001b[1;31mKeyboardInterrupt\u001b[0m: "
     ]
    }
   ],
   "source": [
    "a = 600851475143\n",
    "lst=[]\n",
    "for i in range(2, a):\n",
    "    if a%i==0:\n",
    "        lst.append(i)\n",
    "    else:\n",
    "        continue\n",
    "print(max(lst))\n",
    "print(*lst)"
   ]
  },
  {
   "cell_type": "code",
   "execution_count": 129,
   "id": "25df5ab6",
   "metadata": {},
   "outputs": [
    {
     "name": "stdout",
     "output_type": "stream",
     "text": [
      "a простое\n",
      "\n"
     ]
    }
   ],
   "source": [
    "a = 6857\n",
    "lst=[]\n",
    "for i in range(2, a):\n",
    "    if a%i==0 and i%2!=0 and i%3!=0 and i%5!=0 and i%7!=0 and i%11!=0 and i%13!=0 and i%17!=0:\n",
    "        lst.append(i)\n",
    "    elif i>100000000:\n",
    "        break\n",
    "    else:\n",
    "        continue\n",
    "if lst==[]:\n",
    "    print('a простое')\n",
    "else:\n",
    "    print(max(lst))\n",
    "print(*lst)"
   ]
  },
  {
   "cell_type": "code",
   "execution_count": 141,
   "id": "b5685af3",
   "metadata": {},
   "outputs": [
    {
     "name": "stdout",
     "output_type": "stream",
     "text": [
      "a простое\n"
     ]
    }
   ],
   "source": [
    "def simple():\n",
    "    while len(lst)!=1: # начинаем проверять получившийся список на простоту чисел\n",
    "            for x in lst:\n",
    "                if x%2!=0 and i%3!=0 and i%5!=0 and i%7!=0 and i%11!=0 and i%13!=0 and i%17!=0:\n",
    "                    continue\n",
    "                else:\n",
    "                    lst.remove(x)\n",
    "    return                    \n",
    "\n",
    "\n",
    "a = 6857       #найти максимальный простой делитель\n",
    "lst=[]           # нулевой список чисел, на которые заданное число делится без остатка\n",
    "for i in range(2, a):    #выбор диапазона таких чисел\n",
    "    if a%i==0 and i%2!=0 and i%3!=0 and i%5!=0 and i%7!=0 and i%11!=0 and i%13!=0 and i%17!=0: #проверка на простоту делителя\n",
    "        lst.append(i)       # если условия пройдены, то добавляем в простой список\n",
    "    elif i>500000:      # огрничиваем поиск чисел\n",
    "        break\n",
    "    else:\n",
    "        continue #пропускаем числа, не прошедшие проверку\n",
    "if lst==[]: \n",
    "    print('a простое') #если список пуст\n",
    "else:\n",
    "    simple()\n",
    "    print('Максимальный простой делитель', *lst)"
   ]
  },
  {
   "cell_type": "code",
   "execution_count": 18,
   "id": "c8e1fb3f",
   "metadata": {},
   "outputs": [
    {
     "name": "stdout",
     "output_type": "stream",
     "text": [
      "6\n",
      "8\n"
     ]
    }
   ],
   "source": [
    "def Fibonacci():\n",
    "    f0, f1 = 0, 1\n",
    "    while True:\n",
    "        yield f0\n",
    "        f0, f1 = f1, f0+f1\n",
    "\n",
    "x = int(input())\n",
    "lst=[]\n",
    "for i in Fibonacci():    \n",
    "    if x>=len(lst):\n",
    "        lst.append(i)\n",
    "    else:\n",
    "        break\n",
    "print(lst[-1])"
   ]
  },
  {
   "cell_type": "code",
   "execution_count": 32,
   "id": "f29ad7b9",
   "metadata": {},
   "outputs": [
    {
     "name": "stdout",
     "output_type": "stream",
     "text": [
      "100\n",
      "354224848179261915075\n"
     ]
    }
   ],
   "source": [
    "def fib(n):\n",
    "    f0, f1 = 0, 1\n",
    "    for i in range(1, n):\n",
    "        f0, f1 = f1, f0 + f1\n",
    "    return f1\n",
    "def main():\n",
    "    n = int(input())\n",
    "    print(fib(n))\n",
    "\n",
    "if __name__ == \"__main__\":\n",
    "    main()"
   ]
  },
  {
   "cell_type": "code",
   "execution_count": null,
   "id": "4ece02bb",
   "metadata": {},
   "outputs": [],
   "source": []
  },
  {
   "cell_type": "code",
   "execution_count": null,
   "id": "d7d614a3",
   "metadata": {},
   "outputs": [],
   "source": []
  }
 ],
 "metadata": {
  "kernelspec": {
   "display_name": "Python 3 (ipykernel)",
   "language": "python",
   "name": "python3"
  },
  "language_info": {
   "codemirror_mode": {
    "name": "ipython",
    "version": 3
   },
   "file_extension": ".py",
   "mimetype": "text/x-python",
   "name": "python",
   "nbconvert_exporter": "python",
   "pygments_lexer": "ipython3",
   "version": "3.10.2"
  }
 },
 "nbformat": 4,
 "nbformat_minor": 5
}
